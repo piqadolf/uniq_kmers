{
 "cells": [
  {
   "cell_type": "code",
   "execution_count": 39,
   "id": "9df488e4-31c4-41b5-a4fc-b868e8b9d9f0",
   "metadata": {},
   "outputs": [
    {
     "name": "stdout",
     "output_type": "stream",
     "text": [
      "<class 'pandas.core.frame.DataFrame'>\n",
      "RangeIndex: 46643 entries, 0 to 46642\n",
      "Data columns (total 2 columns):\n",
      " #   Column   Non-Null Count  Dtype \n",
      "---  ------   --------------  ----- \n",
      " 0   name     46643 non-null  object\n",
      " 1   cluster  46643 non-null  object\n",
      "dtypes: object(2)\n",
      "memory usage: 728.9+ KB\n"
     ]
    }
   ],
   "source": [
    "import pandas as pd\n",
    "df = pd.read_csv('mmseqs_REPEAT_REGIONS_1_cluster.tsv', sep = '\\t',  names=['name', 'cluster'])\n",
    "df.info()"
   ]
  },
  {
   "cell_type": "code",
   "execution_count": 31,
   "id": "028eb39c-03ac-450c-8c66-ca3373ef24e7",
   "metadata": {},
   "outputs": [
    {
     "name": "stdout",
     "output_type": "stream",
     "text": [
      "46643\n",
      "12724\n",
      "['chr1A:371919656-371934672', 'chr5A:560225519-560239875', 'chr5A:172823133-172840420', 'chr5A:408356420-408367119', 'chr5A:409453669-409463997', 'chr4A:40448610-40459072', 'chr7A:170265359-170268957', 'chr1A:206226455-206232064', 'chr5A:514492812-514505020', 'chr1A:52607594-52615892']\n"
     ]
    }
   ],
   "source": [
    "clus = df['name']\n",
    "\n",
    "print(len(list(clus)))\n",
    "print(len(set(list(clus))))\n",
    "clus = list(set(list(clus)))\n",
    "print(clus[:10])\n"
   ]
  },
  {
   "cell_type": "code",
   "execution_count": 40,
   "id": "7589d8a8-4395-4778-8652-a2e20f2f5614",
   "metadata": {},
   "outputs": [
    {
     "name": "stdout",
     "output_type": "stream",
     "text": [
      "<class 'pandas.core.frame.DataFrame'>\n",
      "RangeIndex: 2103 entries, 0 to 2102\n",
      "Data columns (total 9 columns):\n",
      " #   Column  Non-Null Count  Dtype  \n",
      "---  ------  --------------  -----  \n",
      " 0   1       2103 non-null   object \n",
      " 1   2       2103 non-null   object \n",
      " 2   3       2103 non-null   object \n",
      " 3   4       2103 non-null   object \n",
      " 4   5       2103 non-null   int64  \n",
      " 5   6       1778 non-null   float64\n",
      " 6   7       1471 non-null   float64\n",
      " 7   8       1072 non-null   float64\n",
      " 8   9       587 non-null    float64\n",
      "dtypes: float64(4), int64(1), object(4)\n",
      "memory usage: 148.0+ KB\n"
     ]
    }
   ],
   "source": [
    "df2 = pd.read_csv('Copia_clades.txt', sep = '\\t', names = [i for i in range(1,10)])\n",
    "df2.info()"
   ]
  },
  {
   "cell_type": "code",
   "execution_count": 35,
   "id": "bbaccc6b-db8e-4d41-8d2d-bdefbc48dafd",
   "metadata": {},
   "outputs": [
    {
     "name": "stdout",
     "output_type": "stream",
     "text": [
      "['chr5A:172823133-172840420', 'chr1A:490692058-490701101', 'chr1A:449188335-449201568', 'chr4A:308010409-308017146', 'chr4A:160748661-160764932', 'chr2A:238529072-238543880', 'chr6A:166915119-166932817', 'chr4A:282466082-282475888', 'chr4A:408183161-408201102', 'chr7A:38357105-38370430']\n"
     ]
    }
   ],
   "source": [
    "chrom = list(df2[1])\n",
    "clustr = list(df2[2])\n",
    "for i, v in enumerate(chrom):\n",
    "    chrom[i] = chrom[i] + ':' + str(clustr[i])\n",
    "# print(chrom[:10])\n",
    "chrom = list(set(chrom))\n",
    "print(chrom[:10])"
   ]
  },
  {
   "cell_type": "code",
   "execution_count": 38,
   "id": "2027d3d3-2326-4484-8942-6e70220030f6",
   "metadata": {},
   "outputs": [
    {
     "name": "stdout",
     "output_type": "stream",
     "text": [
      "12724\n",
      "2102\n",
      "10622\n"
     ]
    }
   ],
   "source": [
    "print(len(clus))\n",
    "print(len(chrom))\n",
    "print(len(list(set(clus)-set(chrom))))"
   ]
  }
 ],
 "metadata": {
  "kernelspec": {
   "display_name": "Python 3 (ipykernel)",
   "language": "python",
   "name": "python3"
  },
  "language_info": {
   "codemirror_mode": {
    "name": "ipython",
    "version": 3
   },
   "file_extension": ".py",
   "mimetype": "text/x-python",
   "name": "python",
   "nbconvert_exporter": "python",
   "pygments_lexer": "ipython3",
   "version": "3.10.10"
  }
 },
 "nbformat": 4,
 "nbformat_minor": 5
}
